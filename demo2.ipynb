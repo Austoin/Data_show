{
 "cells": [
  {
   "cell_type": "code",
   "execution_count": 3,
   "id": "7252abaa",
   "metadata": {},
   "outputs": [],
   "source": [
    "from mpl_toolkits.basemap import Basemap"
   ]
  },
  {
   "cell_type": "code",
   "execution_count": null,
   "id": "14a3e78e",
   "metadata": {},
   "outputs": [],
   "source": [
    "import numpy as np\n",
    "import matplotlib.pyplot as plt\n",
    "from mpl_toolkits.mplot3d import Axes3D\n",
    "\n",
    "%matplotlib qt5\n",
    "plt.rcParams[\"font.sans-serif\"] = [\"SimHei\"]\n",
    "plt.rcParams[\"axes.unicode_minus\"] = False\n",
    "\n",
    "\n",
    "x = np.random.randint(0, 40, 80)\n",
    "y = np.random.randint(0, 40, 80)\n",
    "z = np.random.randint(0, 40, 80)\n",
    "\n",
    "fig = plt.figure(figsize=(8,8))\n",
    "ax = fig.add_subplot(111, projection='3d')\n",
    "for xx, yy, zz in zip(x, y, z):\n",
    "    color = 'y'\n",
    "    marker='o'\n",
    "    if 10 < zz < 30:\n",
    "        color = \"#1530C7B9\"\n",
    "        marker='*'\n",
    "    elif zz >= 30:\n",
    "        color = \"#238B00\"\n",
    "        marker='D'\n",
    "    ax.scatter(xx, yy, zz, c=color, marker=marker, s=160, linewidth=1, edgecolor='black')\n",
    "ax.set_xlabel('x轴', fontsize=13)\n",
    "ax.set_ylabel('y轴', fontsize=13)\n",
    "ax.set_zlabel('z轴', fontsize=13)\n",
    "ax.set_title('3D散点图', fontproperties='simhei', fontsize=16)\n",
    "plt.tight_layout()\n",
    "plt.show()"
   ]
  },
  {
   "cell_type": "code",
   "execution_count": 48,
   "id": "67df8a8d",
   "metadata": {},
   "outputs": [
    {
     "name": "stderr",
     "output_type": "stream",
     "text": [
      "C:\\Users\\liu'zhi'gui\\AppData\\Local\\Temp\\ipykernel_22568\\1451072247.py:28: UserWarning: frames=None which we can infer the length of, did not pass an explicit *save_count* and passed cache_frame_data=True.  To avoid a possibly unbounded cache, frame data caching has been disabled. To suppress this warning either pass `cache_frame_data=False` or `save_count=MAX_FRAMES`.\n",
      "  ani = FuncAnimation(fig=fig, func=animate, frames=None, init_func=init, interval=1000, blit=False)\n"
     ]
    }
   ],
   "source": [
    "import numpy as np\n",
    "import matplotlib.pyplot as plt\n",
    "from mpl_toolkits.mplot3d import Axes3D\n",
    "from matplotlib.animation import FuncAnimation\n",
    "\n",
    "%matplotlib qt5\n",
    "plt.rcParams[\"font.sans-serif\"] = [\"SimHei\"]\n",
    "plt.rcParams[\"axes.unicode_minus\"] = False\n",
    "\n",
    "xx = np.array([13, 5, 25, 13, 9, 19, 3, 39, 13, 27])\n",
    "yy = np.array([4, 38, 16, 26, 7, 19, 28, 10, 17, 18])\n",
    "zz = np.array([7, 19, 6, 12, 25, 19, 23, 25, 10, 15])\n",
    "fig = plt.figure(figsize=(8, 8))\n",
    "ax = fig.add_subplot(111, projection='3d')\n",
    "\n",
    "star = ax.scatter(xx, yy, zz, c='k', marker='*', s=200, linewidth=1, edgecolor='black')\n",
    "\n",
    "def animate(i):\n",
    "    ax.clear() \n",
    "    colors = [\"#BBC715B8\", \"#BB15C7B8\", \"#15C71EB8\", \"#C71539B8\", \"#1530C7F7\"]  \n",
    "    markers = ['D', 'X', '*', 'H', 'o']\n",
    "    color = colors[i % len(colors)] \n",
    "    marker = markers[i % len(markers)]\n",
    "    next_star = ax.scatter(xx, yy, zz, c=color, marker=marker, s = 200, linewidth=1, edgecolor='black')\n",
    "    return next_star\n",
    "def init():\n",
    "    return star\n",
    "ani = FuncAnimation(fig=fig, func=animate, frames=None, init_func=init, interval=1000, blit=False)\n",
    "# ax.set_xlabel('x轴')\n",
    "# ax.set_ylabel('y轴')\n",
    "# ax.set_zlabel('z轴')\n",
    "# ax.set_title('3D散点图', fontproperties='simhei', fontsize=16)\n",
    "plt.tight_layout()\n",
    "plt.show()"
   ]
  },
  {
   "cell_type": "code",
   "execution_count": null,
   "id": "a72f092b",
   "metadata": {},
   "outputs": [],
   "source": [
    "import numpy as np\n",
    "import pandas as pd\n",
    "import matplotlib.pyplot as plt\n",
    "from mpl_toolkits.basemap import Basemap\n",
    "\n",
    "%matplotlib qt5\n",
    "plt.rcParams[\"font.sans-serif\"] = [\"SimHei\"]\n",
    "plt.rcParams[\"axes.unicode_minus\"] = False\n",
    "\n",
    "# 创建 Basemap 对象\n",
    "map = Basemap(projection='stere', lat_0=90, lon_0=-105, llcrnrlat=23.41, \n",
    "              urcrnrlat=45.44, llcrnrlon=-118.67, urcrnrlon=-64.52, \n",
    "              rsphere=6371200., resolution='l', area_thresh=10000)\n",
    "\n",
    "map.drawmapboundary()     # 绘制地图投影周围边界\n",
    "map.drawstates()          # 绘制州界\n",
    "map.drawcoastlines()      # 绘制海岸线\n",
    "map.drawcountries()       # 绘制国家边界\n",
    "# 绘制纬线\n",
    "parallels = np.arange(0., 90, 10.)\n",
    "map.drawparallels(parallels, labels=[1, 0, 0, 0], fontsize=10)\n",
    "# 绘制经线\n",
    "meridians = np.arange(-110., -60., 10.)\n",
    "map.drawmeridians(meridians, labels=[0, 0, 0, 1], fontsize=10)\n",
    "posi = pd.read_csv(r\"Data\\2014_us_cities.csv\")\n",
    "# 从3228组城市数据中选择500 组数据\n",
    "lat = np.array(posi[\"lat\"])               # 获取纬度值\n",
    "lon = np.array(posi[\"lon\"])               # 获取经度值\n",
    "pop = np.array(posi[\"pop\"], dtype=float)  # 获取人口数\n",
    "# 气泡图的气泡大小\n",
    "for i in range(len(lat)):\n",
    "    size = (pop[i] / np.max(pop)) * 1000 \n",
    "    x, y = map(lon[i], lat[i])\n",
    "    if pop[i] >=2000000:\n",
    "        color = 'r'\n",
    "    elif pop[i] >=500000:\n",
    "        color = 'b'\n",
    "    else:\n",
    "        color = 'y'\n",
    "    map.scatter(x, y, s=size, c=color)\n",
    "plt.title('2014年美国部分城镇的人口分布情况')\n",
    "plt.show()"
   ]
  }
 ],
 "metadata": {
  "kernelspec": {
   "display_name": "Data_show",
   "language": "python",
   "name": "python3"
  },
  "language_info": {
   "codemirror_mode": {
    "name": "ipython",
    "version": 3
   },
   "file_extension": ".py",
   "mimetype": "text/x-python",
   "name": "python",
   "nbconvert_exporter": "python",
   "pygments_lexer": "ipython3",
   "version": "3.11.13"
  }
 },
 "nbformat": 4,
 "nbformat_minor": 5
}
