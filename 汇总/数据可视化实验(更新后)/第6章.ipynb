{
 "cells": [
  {
   "cell_type": "markdown",
   "metadata": {},
   "source": [
    "# 6.1　坐标轴概述"
   ]
  },
  {
   "cell_type": "code",
   "execution_count": null,
   "metadata": {},
   "outputs": [],
   "source": [
    "import matplotlib.pyplot as plt\n",
    "cur_ax = plt.gca()\n",
    "print(cur_ax.spines)"
   ]
  },
  {
   "cell_type": "markdown",
   "metadata": {},
   "source": [
    "# 6.2　向任意位置添加坐标轴"
   ]
  },
  {
   "cell_type": "code",
   "execution_count": null,
   "metadata": {},
   "outputs": [],
   "source": [
    "import matplotlib.pyplot as plt\n",
    "%matplotlib qt5\n",
    "\n",
    "ax = plt.axes((0, 0, 0.1, 0.1))\n",
    "ax.plot([1, 2, 3, 4, 5])\n",
    "ax2 = plt.axes((0.6, 0.4, 0.2, 0.2))\n",
    "ax2.plot([1, 2, 3, 4, 5])\n",
    "ax3 = plt.axes((0.9, 0.9, 0.1, 0.1))\n",
    "ax3.plot([1, 2, 3, 4, 5])\n",
    "plt.show()"
   ]
  },
  {
   "cell_type": "markdown",
   "metadata": {},
   "source": [
    "# 6.3　定制刻度"
   ]
  },
  {
   "cell_type": "markdown",
   "metadata": {},
   "source": [
    "## 6.3.1　定制刻度的位置和格式"
   ]
  },
  {
   "cell_type": "code",
   "execution_count": null,
   "metadata": {},
   "outputs": [],
   "source": [
    "import matplotlib.pyplot as plt\n",
    "from datetime import datetime\n",
    "from matplotlib.dates import DateFormatter, HourLocator\n",
    "ax = plt.gca()\n",
    "hour_loc = HourLocator(interval=2)\n",
    "date_fmt = DateFormatter('%Y/%m/%d')\n",
    "ax.xaxis.set_major_locator(hour_loc)\n",
    "ax.xaxis.set_major_formatter(date_fmt)\n",
    "plt.tick_params(labelrotation=30)\n",
    "plt.show()"
   ]
  },
  {
   "cell_type": "markdown",
   "metadata": {},
   "source": [
    "## 6.3.2　定制刻度的样式"
   ]
  },
  {
   "cell_type": "code",
   "execution_count": null,
   "metadata": {},
   "outputs": [],
   "source": [
    "plt.tick_params(direction='inout', length=6, width=2, colors='r')"
   ]
  },
  {
   "cell_type": "markdown",
   "metadata": {},
   "source": [
    "## 6.3.3　实例1：深圳市24小时的平均风速"
   ]
  },
  {
   "cell_type": "code",
   "execution_count": null,
   "metadata": {},
   "outputs": [],
   "source": [
    "# 01_average_wind_speed_in_shenzhen\n",
    "import numpy as np\n",
    "from datetime import datetime\n",
    "import matplotlib.pyplot as plt\n",
    "from matplotlib.dates import DateFormatter, HourLocator\n",
    "plt.rcParams[\"font.sans-serif\"] = [\"SimHei\"]\n",
    "plt.rcParams[\"axes.unicode_minus\"] = False\n",
    "dates = ['201910240','2019102402','2019102404','2019102406',\n",
    "         '2019102408','2019102410','2019102412', '2019102414',\n",
    "         '2019102416','2019102418','2019102420','2019102422','201910250' ]\n",
    "x_date = [datetime.strptime(d, '%Y%m%d%H') for d in dates]\n",
    "y_data = np.array([7, 9, 11, 14, 8, 15, 22, 11, 10, 11, 11, 13,  8])\n",
    "fig = plt.figure()\n",
    "ax = fig.add_axes((0.0, 0.0, 1.0, 1.0))\n",
    "ax.plot(x_date, y_data, '->', ms=8, mfc='#FF9900')\n",
    "ax.set_title(' 深圳市24小时的平均风速')\n",
    "ax.set_xlabel('时间（h）')\n",
    "ax.set_ylabel('平均风速(km/h)')\n",
    "# 设置 x 轴主刻度的位置和格式\n",
    "date_fmt = DateFormatter('%H:%M')\n",
    "ax.xaxis.set_major_formatter(date_fmt)\n",
    "ax.xaxis.set_major_locator(HourLocator(interval=2))\n",
    "ax.tick_params(direction='in', length=6, width=2, labelsize=12)\n",
    "ax.xaxis.set_tick_params(labelrotation=45)\n",
    "plt.show()"
   ]
  },
  {
   "cell_type": "markdown",
   "metadata": {},
   "source": [
    "# 6.4　隐藏轴脊"
   ]
  },
  {
   "cell_type": "markdown",
   "metadata": {},
   "source": [
    "## 6.4.1　隐藏全部轴脊"
   ]
  },
  {
   "cell_type": "code",
   "execution_count": null,
   "metadata": {},
   "outputs": [],
   "source": [
    "import numpy as np\n",
    "import matplotlib.pyplot as plt\n",
    "import matplotlib.patches as mpathes\n",
    "polygon = mpathes.RegularPolygon((0.5, 0.5), 6, 0.2, color='g')\n",
    "ax = plt.axes((0.3, 0.3, 0.5, 0.5))\n",
    "ax.add_patch(polygon)\n",
    "# 隐藏全部轴脊\n",
    "ax.axis('off')\n",
    "plt.show()"
   ]
  },
  {
   "cell_type": "markdown",
   "metadata": {},
   "source": [
    "## 6.4.2　隐藏部分轴脊"
   ]
  },
  {
   "cell_type": "code",
   "execution_count": null,
   "metadata": {},
   "outputs": [],
   "source": [
    "import numpy as np\n",
    "import matplotlib.pyplot as plt\n",
    "import matplotlib.patches as mpathes\n",
    "xy = np.array([0.5,0.5])\n",
    "polygon = mpathes.RegularPolygon(xy, 5, 0.2,color='y')\n",
    "ax = plt.axes((0.3, 0.3, 0.5, 0.5))\n",
    "ax.add_patch(polygon)\n",
    "# 依次隐藏上轴脊、左轴脊和右轴脊\n",
    "ax.spines['top'].set_color('none')\n",
    "ax.spines['left'].set_color('none')\n",
    "ax.spines['right'].set_color('none')\n",
    "# 插入如下代码\n",
    "ax.yaxis.set_ticks_position('none')\n",
    "ax.set_yticklabels([])\n",
    "plt.show()"
   ]
  },
  {
   "cell_type": "markdown",
   "metadata": {},
   "source": [
    "## 6.4.3　实例2：深圳市24小时的平均风速（隐藏部分轴脊）"
   ]
  },
  {
   "cell_type": "code",
   "execution_count": null,
   "metadata": {},
   "outputs": [],
   "source": [
    "# 02_average_wind_speed_in_shenzhen(2)\n",
    "import numpy as np\n",
    "from datetime import datetime\n",
    "import matplotlib.pyplot as plt\n",
    "from matplotlib.dates import DateFormatter, HourLocator\n",
    "plt.rcParams[\"font.sans-serif\"] = [\"SimHei\"]\n",
    "plt.rcParams[\"axes.unicode_minus\"] = False\n",
    "dates = ['201910240','2019102402','2019102404','2019102406',\n",
    "         '2019102408','2019102410','2019102412', '2019102414',\n",
    "         '2019102416','2019102418','2019102420','2019102422','201910250' ]\n",
    "x_date = [datetime.strptime(d, '%Y%m%d%H') for d in dates]\n",
    "y_data = np.array([7, 9, 11, 14, 8, 15, 22, 11, 10, 11, 11, 13,  8])\n",
    "fig = plt.figure()\n",
    "ax = fig.add_axes((0.0, 0.0, 1.0, 1.0))\n",
    "ax.plot(x_date, y_data, '->', ms=8, mfc='#FF9900')\n",
    "ax.set_title('深圳市24小时的平均风速')\n",
    "ax.set_xlabel('时间（h）')\n",
    "ax.set_ylabel('平均风速(km/h)')\n",
    "date_fmt = DateFormatter('%H:%M')\n",
    "ax.xaxis.set_major_formatter(date_fmt)\n",
    "ax.xaxis.set_major_locator(HourLocator(interval=2))\n",
    "ax.tick_params(direction='in', length=6, width=2, labelsize=12)\n",
    "ax.xaxis.set_tick_params(labelrotation=45)\n",
    "# 隐藏上轴脊和右轴脊\n",
    "ax.spines['top'].set_color('none')\n",
    "ax.spines['right'].set_color('none')\n",
    "plt.show()    "
   ]
  },
  {
   "cell_type": "markdown",
   "metadata": {},
   "source": [
    "# 6.5　移动轴脊"
   ]
  },
  {
   "cell_type": "markdown",
   "metadata": {},
   "source": [
    "## 6.5.1　移动轴脊的位置"
   ]
  },
  {
   "cell_type": "code",
   "execution_count": null,
   "metadata": {},
   "outputs": [],
   "source": [
    "import numpy as np\n",
    "import matplotlib.pyplot as plt\n",
    "import matplotlib.patches as mpathes\n",
    "xy = np.array([0.5,0.5])\n",
    "polygon = mpathes.RegularPolygon(xy, 5, 0.2,color='y')\n",
    "ax = plt.axes((0.3, 0.3, 0.5, 0.5))\n",
    "ax.add_patch(polygon)\n",
    "# 隐藏上轴脊和右轴脊\n",
    "ax.spines['top'].set_color('none')\n",
    "ax.spines['right'].set_color('none')\n",
    "# 移动轴脊的位置\n",
    "ax.spines['left'].set_position(('data', 0.5))\n",
    "ax.spines['bottom'].set_position(('data', 0.5))\n",
    "plt.show()"
   ]
  },
  {
   "cell_type": "markdown",
   "metadata": {},
   "source": [
    "## 6.5.2　实例3：正弦与余弦曲线"
   ]
  },
  {
   "cell_type": "code",
   "execution_count": null,
   "metadata": {},
   "outputs": [],
   "source": [
    "# 03_sin_and_cos\n",
    "import numpy as np\n",
    "import matplotlib.pyplot as plt\n",
    "plt.rcParams[\"font.sans-serif\"] = [\"SimHei\"]\n",
    "plt.rcParams[\"axes.unicode_minus\"] = False\n",
    "x_data = np.linspace(-2 * np.pi, 2 * np.pi, 100)\n",
    "y_one = np.sin(x_data)\n",
    "y_two = np.cos(x_data)\n",
    "fig = plt.figure()\n",
    "ax = fig.add_axes((0.2, 0.2, 0.7, 0.7)) \n",
    "ax.plot(x_data, y_one, label='正弦曲线 ')\n",
    "ax.plot(x_data, y_two, label='余弦曲线 ')\n",
    "ax.legend()\n",
    "ax.set_xlim(-2 * np.pi, 2 * np.pi)\n",
    "ax.set_xticks([-2  * np.pi, -3 * np.pi / 2, -1 * np.pi, -1 * np.pi / 2, \n",
    "               0, np.pi / 2, np.pi, 3  * np.pi / 2, 2  * np.pi])\n",
    "ax.set_xticklabels(['$-2\\pi$', '$-3\\pi/2$', '$-\\pi$', '$-\\pi/2$ ', '$0$', \n",
    "                    '$\\pi/2$', '$\\pi$', '$3\\pi/2$', '$2\\pi$'])\n",
    "ax.set_yticks([-1.0, -0.5, 0.0, 0.5, 1.0])\n",
    "ax.set_yticklabels([-1.0, -0.5, 0.0, 0.5, 1.0])\n",
    "# 隐藏右轴脊和上轴脊\n",
    "ax.spines['right'].set_color('none')\n",
    "ax.spines['top'].set_color('none')\n",
    "# 移动左轴脊和下轴脊的位置\n",
    "ax.spines['left'].set_position(('data', 0))\n",
    "ax.spines['bottom'].set_position(('data', 0))\n",
    "plt.show()"
   ]
  },
  {
   "cell_type": "code",
   "execution_count": null,
   "metadata": {},
   "outputs": [],
   "source": []
  }
 ],
 "metadata": {
  "kernelspec": {
   "display_name": "sjksh2",
   "language": "python",
   "name": "python3"
  },
  "language_info": {
   "codemirror_mode": {
    "name": "ipython",
    "version": 3
   },
   "file_extension": ".py",
   "mimetype": "text/x-python",
   "name": "python",
   "nbconvert_exporter": "python",
   "pygments_lexer": "ipython3",
   "version": "3.10.18"
  }
 },
 "nbformat": 4,
 "nbformat_minor": 4
}
