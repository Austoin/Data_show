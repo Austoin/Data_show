{
 "cells": [
  {
   "cell_type": "markdown",
   "metadata": {},
   "source": [
    "# 7.1　使用mplot3d绘制3D图表"
   ]
  },
  {
   "cell_type": "markdown",
   "metadata": {},
   "source": [
    "## 7.1.1　mplot3d概述"
   ]
  },
  {
   "cell_type": "code",
   "execution_count": 4,
   "metadata": {},
   "outputs": [],
   "source": [
    "%matplotlib qt5\n",
    "import matplotlib.pyplot as plt\n",
    "from mpl_toolkits.mplot3d import Axes3D\n",
    "fig = plt.figure()\n",
    "ax = fig.add_subplot(111, projection='3d')"
   ]
  },
  {
   "cell_type": "markdown",
   "metadata": {},
   "source": [
    "## 7.1.2　绘制常见的3D图表"
   ]
  },
  {
   "cell_type": "code",
   "execution_count": 6,
   "metadata": {},
   "outputs": [
    {
     "name": "stdout",
     "output_type": "stream",
     "text": [
      "[[-30.  -29.5 -29.  ...  28.5  29.   29.5]\n",
      " [-30.  -29.5 -29.  ...  28.5  29.   29.5]\n",
      " [-30.  -29.5 -29.  ...  28.5  29.   29.5]\n",
      " ...\n",
      " [-30.  -29.5 -29.  ...  28.5  29.   29.5]\n",
      " [-30.  -29.5 -29.  ...  28.5  29.   29.5]\n",
      " [-30.  -29.5 -29.  ...  28.5  29.   29.5]]\n",
      "-----\n",
      "[[-30.  -30.  -30.  ... -30.  -30.  -30. ]\n",
      " [-29.5 -29.5 -29.5 ... -29.5 -29.5 -29.5]\n",
      " [-29.  -29.  -29.  ... -29.  -29.  -29. ]\n",
      " ...\n",
      " [ 28.5  28.5  28.5 ...  28.5  28.5  28.5]\n",
      " [ 29.   29.   29.  ...  29.   29.   29. ]\n",
      " [ 29.5  29.5  29.5 ...  29.5  29.5  29.5]]\n",
      "-----\n",
      "[[-0.00982064 -0.0113957  -0.01319036 ... -0.01522953 -0.01319036\n",
      "  -0.0113957 ]\n",
      " [-0.0113957  -0.01322338 -0.01530587 ... -0.01767209 -0.01530587\n",
      "  -0.01322338]\n",
      " [-0.01319036 -0.01530587 -0.01771632 ... -0.02045518 -0.01771632\n",
      "  -0.01530587]\n",
      " ...\n",
      " [-0.01200234 -0.01414685 -0.01660867 ...  0.02918791  0.03019517\n",
      "   0.03085725]\n",
      " [-0.01097235 -0.01288301 -0.01507265 ...  0.01583738  0.01709512\n",
      "   0.01804782]\n",
      " [-0.00988645 -0.01157475 -0.01350698 ...  0.00702321  0.0083816\n",
      "   0.00947216]]\n"
     ]
    }
   ],
   "source": [
    "import matplotlib.pyplot as plt\n",
    "from mpl_toolkits.mplot3d import axes3d\n",
    "fig = plt.figure()\n",
    "ax = fig.add_subplot(111, projection='3d')\n",
    "# 获取测试数据\n",
    "X, Y, Z = axes3d.get_test_data(0.05)\n",
    "print(X)\n",
    "print(\"-----\")\n",
    "print(Y)\n",
    "print(\"-----\")\n",
    "print(Z)\n",
    "# 绘制 3D线框图\n",
    "ax.plot_wireframe(X, Y, Z, rstride=5, cstride=10)\n",
    "plt.show()"
   ]
  },
  {
   "cell_type": "code",
   "execution_count": 10,
   "metadata": {},
   "outputs": [
    {
     "name": "stdout",
     "output_type": "stream",
     "text": [
      "[-5.   -4.75 -4.5  -4.25 -4.   -3.75 -3.5  -3.25 -3.   -2.75 -2.5  -2.25\n",
      " -2.   -1.75 -1.5  -1.25 -1.   -0.75 -0.5  -0.25  0.    0.25  0.5   0.75\n",
      "  1.    1.25  1.5   1.75  2.    2.25  2.5   2.75  3.    3.25  3.5   3.75\n",
      "  4.    4.25  4.5   4.75]\n"
     ]
    }
   ],
   "source": [
    "from mpl_toolkits.mplot3d import Axes3D\n",
    "import matplotlib.pyplot as plt\n",
    "from matplotlib import cm\n",
    "import numpy as np\n",
    "x1 = np.arange(-5, 5, 0.25)\n",
    "print(x1)\n",
    "y1 = np.arange(-5, 5, 0.25)\n",
    "x1, y1 = np.meshgrid(x1, y1)\n",
    "r1 = np.sqrt(x1** 2 + y1 ** 2)\n",
    "z1 = np.sin(r1)\n",
    "fig = plt.figure()\n",
    "ax = fig.add_subplot(111, projection='3d')\n",
    "# 绘制曲面图\n",
    "ax.plot_surface(x1, y1, z1, cmap=cm.coolwarm, linewidth=2, edgecolor='black', antialiased=False) \n",
    "# 设置 z 轴刻度的范围、位置、格式\n",
    "ax.set_zlim(-1.01, 1.01)\n",
    "plt.show()"
   ]
  },
  {
   "cell_type": "markdown",
   "metadata": {},
   "source": [
    "## 7.1.3　实例1：三维空间的星星"
   ]
  },
  {
   "cell_type": "code",
   "execution_count": 12,
   "metadata": {},
   "outputs": [],
   "source": [
    "# 01_stars_in_3d\n",
    "import numpy as np\n",
    "import matplotlib.pyplot as plt\n",
    "from mpl_toolkits.mplot3d import Axes3D\n",
    "plt.rcParams[\"font.sans-serif\"] = [\"SimHei\"]\n",
    "plt.rcParams[\"axes.unicode_minus\"] = False\n",
    "# 生成测试数据\n",
    "x = np.random.randint(0, 40, 30)\n",
    "y = np.random.randint(0, 40, 30)\n",
    "z = np.random.randint(0, 40, 30)\n",
    "# 创建三维坐标系的绘图区域, 并在该区域中绘制3D散点图\n",
    "fig = plt.figure()\n",
    "ax = fig.add_subplot(111, projection='3d')\n",
    "for xx, yy, zz in zip(x, y, z):\n",
    "    color = 'y'\n",
    "    if 10 < zz < 20:\n",
    "        color = '#C71585'\n",
    "    elif zz >= 20:\n",
    "        color = '#008B8B'\n",
    "    ax.scatter(xx, yy, zz, c=color, marker='*', s=300, linewidth=1, edgecolor='black')\n",
    "ax.set_xlabel('x轴')\n",
    "ax.set_ylabel('y轴')\n",
    "ax.set_zlabel('z轴')\n",
    "ax.set_title('3D散点图', fontproperties='simhei', fontsize=14)\n",
    "plt.tight_layout()\n",
    "plt.show()"
   ]
  },
  {
   "cell_type": "markdown",
   "metadata": {},
   "source": [
    "# 7.2　使用animation制作动图"
   ]
  },
  {
   "cell_type": "markdown",
   "metadata": {},
   "source": [
    "## 7.2.1　animation概述"
   ]
  },
  {
   "cell_type": "code",
   "execution_count": 16,
   "metadata": {},
   "outputs": [],
   "source": [
    "# 以qt5为图形界面后端\n",
    "%matplotlib qt5\n",
    "import numpy as np\n",
    "import matplotlib.pyplot as plt\n",
    "from matplotlib.animation import FuncAnimation    # 导入动画类\n",
    "x = np.arange(0, 2 *np.pi, 0.01)\n",
    "fig, ax = plt.subplots()\n",
    "line, = ax.plot(x, np.sin(x))\n",
    "# 定义每帧动画调用的函数 \n",
    "def animate(i):\n",
    "    line.set_ydata(np.sin(x + i / 10.0))\n",
    "    return line\n",
    "# 定义初始化帧的函数\n",
    "def init():\n",
    "    line.set_ydata(np.sin(x))\n",
    "    return line\n",
    "ani = FuncAnimation(fig=fig, func=animate, frames=63, \n",
    "                    init_func=init, interval=20, blit=False)\n",
    "# blit是一个性能优化选项。当设置为True时，FuncAnimation会尝试只更新图形中发生变化的部分，而不是重新绘制整个图形。这可以显著提高动画的渲染速度\n",
    "plt.show()"
   ]
  },
  {
   "cell_type": "code",
   "execution_count": 18,
   "metadata": {},
   "outputs": [],
   "source": [
    "%matplotlib qt5\n",
    "import numpy as np\n",
    "import matplotlib.pyplot as plt\n",
    "from matplotlib.animation import ArtistAnimation\n",
    "x = np.arange(0, 2 * np.pi, 0.01)\n",
    "fig, ax = plt.subplots()\n",
    "arr = []\n",
    "for i in range(63):\n",
    "    line = ax.plot(x, np.sin(x + i/10), 'm--')\n",
    "    arr.append(line)\n",
    "# 根据arr存储的一组图形创建动画\n",
    "ani = ArtistAnimation(fig=fig, artists=arr, repeat=True, interval=20)\n",
    "plt.show()"
   ]
  },
  {
   "cell_type": "markdown",
   "metadata": {},
   "source": [
    "## 7.2.2　实例2：三维空间闪烁的星星"
   ]
  },
  {
   "cell_type": "code",
   "execution_count": 19,
   "metadata": {},
   "outputs": [
    {
     "name": "stderr",
     "output_type": "stream",
     "text": [
      "C:\\Users\\xiang\\AppData\\Local\\Temp\\ipykernel_11232\\368994127.py:29: UserWarning: frames=None which we can infer the length of, did not pass an explicit *save_count* and passed cache_frame_data=True.  To avoid a possibly unbounded cache, frame data caching has been disabled. To suppress this warning either pass `cache_frame_data=False` or `save_count=MAX_FRAMES`.\n",
      "  ani = FuncAnimation(fig=fig, func=animate, frames=None, init_func =init, interval=1000, blit=False)\n"
     ]
    }
   ],
   "source": [
    "# 02_twinkling_stars_in_3d\n",
    "%matplotlib qt5\n",
    "import numpy as np\n",
    "import matplotlib.pyplot as plt\n",
    "from mpl_toolkits.mplot3d import Axes3D\n",
    "from matplotlib.animation import FuncAnimation\n",
    "\n",
    "plt.rcParams[\"font.sans-serif\"] = [\"SimHei\"]\n",
    "plt.rcParams[\"axes.unicode_minus\"] = False\n",
    "# 生成测试数据\n",
    "xx = np.array([13, 5, 25, 13, 9, 19, 3, 39, 13, 27])\n",
    "yy = np.array([4, 38, 16, 26, 7, 19, 28, 10, 17, 18])\n",
    "zz = np.array([7, 19, 6, 12, 25, 19, 23, 25, 10, 15])\n",
    "fig = plt.figure()\n",
    "ax = fig.add_subplot(111, projection='3d')\n",
    "# 绘制初始的3D散点图\n",
    "star = ax.scatter(xx, yy, zz, c='#C71585', marker='*', s=160, \n",
    "      linewidth=1, edgecolor='black')\n",
    "# 每帧动画调用的函数\n",
    "def animate(i):\n",
    "    if i % 2:\n",
    "        color = '#C71585'\n",
    "    else:\n",
    "        color = 'white'\n",
    "    next_star = ax.scatter(xx, yy, zz, c=color, marker='*', s = 160, linewidth=1, edgecolor='black')\n",
    "    return next_star\n",
    "def init():\n",
    "    return star\n",
    "ani = FuncAnimation(fig=fig, func=animate, frames=None, init_func =init, interval=1000, blit=False)\n",
    "ax.set_xlabel('x轴')\n",
    "ax.set_ylabel('y轴')\n",
    "ax.set_zlabel('z轴')\n",
    "ax.set_title('3D散点图', fontproperties='simhei', fontsize=14)\n",
    "plt.tight_layout()\n",
    "plt.show()"
   ]
  },
  {
   "cell_type": "markdown",
   "metadata": {},
   "source": [
    "# 7.3　使用basemap绘制统计地图"
   ]
  },
  {
   "cell_type": "markdown",
   "metadata": {},
   "source": [
    "## 7.3.2　实例3：美国部分城镇人口分布"
   ]
  },
  {
   "cell_type": "code",
   "execution_count": 21,
   "metadata": {},
   "outputs": [],
   "source": [
    "# 03_twinkling_stars_in_3d\n",
    "import numpy as np\n",
    "import pandas as pd\n",
    "import matplotlib.pyplot as plt\n",
    "from mpl_toolkits.basemap import Basemap\n",
    "plt.rcParams[\"font.sans-serif\"] = [\"SimHei\"]\n",
    "plt.rcParams[\"axes.unicode_minus\"] = False\n",
    "# 创建 Basemap 对象\n",
    "map = Basemap(projection='stere', lat_0=90, lon_0=-105, llcrnrlat=23.41, \n",
    "              urcrnrlat=45.44, llcrnrlon=-118.67, urcrnrlon=-64.52, \n",
    "              rsphere=6371200., resolution='l', area_thresh=10000)\n",
    "map.drawmapboundary()     # 绘制地图投影周围边界\n",
    "map.drawstates()          # 绘制州界\n",
    "map.drawcoastlines()      # 绘制海岸线\n",
    "map.drawcountries()       # 绘制国家边界\n",
    "# 绘制纬线\n",
    "parallels = np.arange(0., 90, 10.)\n",
    "map.drawparallels(parallels, labels=[1, 0, 0, 0], fontsize=10)\n",
    "# 绘制经线\n",
    "meridians = np.arange(-110., -60., 10.)\n",
    "map.drawmeridians(meridians, labels=[0, 0, 0, 1], fontsize=10)\n",
    "posi = pd.read_csv(r\".\\素材\\2014_us_cities.csv\")\n",
    "# 从3228组城市数据中选择500 组数据\n",
    "lat = np.array(posi[\"lat\"][0:500])               # 获取纬度值\n",
    "lon = np.array(posi[\"lon\"][0:500])               # 获取经度值\n",
    "pop = np.array(posi[\"pop\"][0:500], dtype=float)  # 获取人口数\n",
    "# 气泡图的气泡大小\n",
    "size = (pop / np.max(pop)) * 1000 \n",
    "x, y = map(lon, lat)\n",
    "map.scatter(x, y, s=size)\n",
    "plt.title('2014年美国部分城镇的人口分布情况')\n",
    "plt.show()"
   ]
  }
 ],
 "metadata": {
  "kernelspec": {
   "display_name": "sjksh",
   "language": "python",
   "name": "python3"
  },
  "language_info": {
   "codemirror_mode": {
    "name": "ipython",
    "version": 3
   },
   "file_extension": ".py",
   "mimetype": "text/x-python",
   "name": "python",
   "nbconvert_exporter": "python",
   "pygments_lexer": "ipython3",
   "version": "3.13.7"
  }
 },
 "nbformat": 4,
 "nbformat_minor": 4
}
