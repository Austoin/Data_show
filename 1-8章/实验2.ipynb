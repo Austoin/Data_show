{
 "cells": [
  {
   "cell_type": "markdown",
   "metadata": {},
   "source": [
    "## 练习2"
   ]
  },
  {
   "cell_type": "code",
   "execution_count": 3,
   "metadata": {},
   "outputs": [
    {
     "name": "stdout",
     "output_type": "stream",
     "text": [
      "Using matplotlib backend: Qt5Agg\n"
     ]
    }
   ],
   "source": [
    "import numpy as np\n",
    "import matplotlib.pyplot as plt\n",
    "from mpl_toolkits.mplot3d import Axes3D\n",
    "%matplotlib auto\n",
    "plt.rcParams[\"font.sans-serif\"] = [\"SimHei\"]\n",
    "plt.rcParams[\"axes.unicode_minus\"] = False\n",
    "# 生成测试数据\n",
    "x = np.random.randint(0, 40, 30)\n",
    "y = np.random.randint(0, 40, 30)\n",
    "z = np.random.randint(0, 40, 30)\n",
    "# 创建三维坐标系的绘图区域, 并在该区域中绘制3D散点图\n",
    "fig = plt.figure()\n",
    "ax = fig.add_subplot(111, projection='3d')\n",
    "for xx, yy, zz in zip(x, y, z):\n",
    "    color = 'y'\n",
    "    marker='*'\n",
    "    if 10 < zz < 20:\n",
    "        color = '#C71585'\n",
    "        marker='*'\n",
    "    elif zz >= 20:\n",
    "        color = '#008B8B'\n",
    "        marker='D'\n",
    "    ax.scatter(xx, yy, zz, c=color, marker=marker, s=160, linewidth=1, edgecolor='black')\n",
    "ax.set_xlabel('x轴')\n",
    "ax.set_ylabel('y轴')\n",
    "ax.set_zlabel('z轴')\n",
    "ax.set_title('3D散点图', fontproperties='simhei', fontsize=14)\n",
    "plt.tight_layout()\n",
    "plt.show()"
   ]
  },
  {
   "cell_type": "markdown",
   "metadata": {},
   "source": [
    "## 练习3"
   ]
  },
  {
   "cell_type": "code",
   "execution_count": 4,
   "metadata": {},
   "outputs": [
    {
     "name": "stdout",
     "output_type": "stream",
     "text": [
      "Using matplotlib backend: Qt5Agg\n"
     ]
    }
   ],
   "source": [
    "import numpy as np\n",
    "import matplotlib.pyplot as plt\n",
    "from mpl_toolkits.mplot3d import Axes3D\n",
    "from matplotlib.animation import FuncAnimation\n",
    "%matplotlib auto\n",
    "\n",
    "plt.rcParams[\"font.sans-serif\"] = [\"SimHei\"]\n",
    "plt.rcParams[\"axes.unicode_minus\"] = False\n",
    "# 生成测试数据\n",
    "xx = np.array([13, 5, 25, 13, 9, 19, 3, 39, 13, 27])\n",
    "yy = np.array([4, 38, 16, 26, 7, 19, 28, 10, 17, 18])\n",
    "zz = np.array([7, 19, 6, 12, 25, 19, 23, 25, 10, 15])\n",
    "fig = plt.figure()\n",
    "ax = fig.add_subplot(111, projection='3d')\n",
    "# 绘制初始的3D散点图\n",
    "star = ax.scatter(xx, yy, zz, c='k', marker='*', s=160, \n",
    "      linewidth=1, edgecolor='black')\n",
    "# 每帧动画调用的函数\n",
    "def animate(i):\n",
    "    ax.clear() \n",
    "    colors = ['k', 'r', 'g', 'm', 'b']  # 定义颜色循环  \n",
    "    markers = ['*', 'D', 'd', 'H', 'o']  # 定义标记循环 \n",
    "    color = colors[i % len(colors)]  \n",
    "    marker = markers[i % len(markers)]\n",
    "    next_star = ax.scatter(xx, yy, zz, c=color, marker=marker, s = 160, linewidth=1, edgecolor='black')\n",
    "    return next_star\n",
    "def init():\n",
    "    return star\n",
    "ani = FuncAnimation(fig=fig, func=animate, frames=None, init_func=init, interval=1000, blit=False)\n",
    "ax.set_xlabel('x轴')\n",
    "ax.set_ylabel('y轴')\n",
    "ax.set_zlabel('z轴')\n",
    "ax.set_title('3D散点图', fontproperties='simhei', fontsize=14)\n",
    "plt.tight_layout()\n",
    "plt.show()"
   ]
  },
  {
   "cell_type": "markdown",
   "metadata": {},
   "source": [
    "## 练习4"
   ]
  },
  {
   "cell_type": "code",
   "execution_count": 5,
   "metadata": {},
   "outputs": [],
   "source": [
    "import numpy as np\n",
    "import pandas as pd\n",
    "import matplotlib.pyplot as plt\n",
    "from mpl_toolkits.basemap import Basemap\n",
    "plt.rcParams[\"font.sans-serif\"] = [\"SimHei\"]\n",
    "plt.rcParams[\"axes.unicode_minus\"] = False\n",
    "# 创建 Basemap 对象\n",
    "map = Basemap(projection='stere', lat_0=90, lon_0=-105, llcrnrlat=23.41, \n",
    "              urcrnrlat=45.44, llcrnrlon=-118.67, urcrnrlon=-64.52, \n",
    "              rsphere=6371200., resolution='l', area_thresh=10000)\n",
    "map.drawmapboundary()     # 绘制地图投影周围边界\n",
    "map.drawstates()          # 绘制州界\n",
    "map.drawcoastlines()      # 绘制海岸线\n",
    "map.drawcountries()       # 绘制国家边界\n",
    "# 绘制纬线\n",
    "parallels = np.arange(0., 90, 10.)\n",
    "map.drawparallels(parallels, labels=[1, 0, 0, 0], fontsize=10)\n",
    "# 绘制经线\n",
    "meridians = np.arange(-110., -60., 10.)\n",
    "map.drawmeridians(meridians, labels=[0, 0, 0, 1], fontsize=10)\n",
    "posi = pd.read_csv(r\"D:\\OneDrive\\教学\\数据可视化技术\\24251\\3.实验材料\\程序代码\\素材\\2014_us_cities.csv\")\n",
    "# 从3228组城市数据中选择500 组数据\n",
    "lat = np.array(posi[\"lat\"])               # 获取纬度值\n",
    "lon = np.array(posi[\"lon\"])               # 获取经度值\n",
    "pop = np.array(posi[\"pop\"], dtype=float)  # 获取人口数\n",
    "# 气泡图的气泡大小\n",
    "for i in range(len(lat)):\n",
    "    size = (pop[i] / np.max(pop)) * 1000 \n",
    "    x, y = map(lon[i], lat[i])\n",
    "    if pop[i] >=2000000:\n",
    "        color = 'r'\n",
    "    elif pop[i] >=500000:\n",
    "        color = 'b'\n",
    "    else:\n",
    "        color = 'y'\n",
    "    map.scatter(x, y, s=size, c=color)\n",
    "plt.title('2014年美国部分城镇的人口分布情况')\n",
    "plt.show()"
   ]
  }
 ],
 "metadata": {
  "kernelspec": {
   "display_name": "base",
   "language": "python",
   "name": "python3"
  },
  "language_info": {
   "codemirror_mode": {
    "name": "ipython",
    "version": 3
   },
   "file_extension": ".py",
   "mimetype": "text/x-python",
   "name": "python",
   "nbconvert_exporter": "python",
   "pygments_lexer": "ipython3",
   "version": "3.9.7"
  }
 },
 "nbformat": 4,
 "nbformat_minor": 4
}
